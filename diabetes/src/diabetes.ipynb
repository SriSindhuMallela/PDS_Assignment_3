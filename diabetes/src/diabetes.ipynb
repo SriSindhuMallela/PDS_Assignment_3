{
 "cells": [
  {
   "cell_type": "code",
   "execution_count": 1,
   "id": "c184f581",
   "metadata": {},
   "outputs": [],
   "source": [
    "#importing all the required libraries\n",
    "\n",
    "import statistics as st\n",
    "import random as rd\n",
    "import sklearn as sk\n",
    "import pandas as pd\n",
    "import numpy as np\n",
    "import matplotlib.pyplot as plt\n",
    "import seaborn as sn"
   ]
  },
  {
   "cell_type": "code",
   "execution_count": 2,
   "id": "c1f74f8a",
   "metadata": {},
   "outputs": [],
   "source": [
    "#Getting the data from local repository\n",
    "\n",
    "path = r\"C:\\Users\\srisi_w\\Desktop\\Python_Practice\\diabetes\\raw_data\\diabetes.csv\"\n",
    "\n",
    "df = pd.read_csv(path)"
   ]
  },
  {
   "cell_type": "code",
   "execution_count": 3,
   "id": "d0a4c70b",
   "metadata": {},
   "outputs": [
    {
     "data": {
      "text/html": [
       "<div>\n",
       "<style scoped>\n",
       "    .dataframe tbody tr th:only-of-type {\n",
       "        vertical-align: middle;\n",
       "    }\n",
       "\n",
       "    .dataframe tbody tr th {\n",
       "        vertical-align: top;\n",
       "    }\n",
       "\n",
       "    .dataframe thead th {\n",
       "        text-align: right;\n",
       "    }\n",
       "</style>\n",
       "<table border=\"1\" class=\"dataframe\">\n",
       "  <thead>\n",
       "    <tr style=\"text-align: right;\">\n",
       "      <th></th>\n",
       "      <th>Pregnancies</th>\n",
       "      <th>Glucose</th>\n",
       "      <th>BloodPressure</th>\n",
       "      <th>SkinThickness</th>\n",
       "      <th>Insulin</th>\n",
       "      <th>BMI</th>\n",
       "      <th>DiabetesPedigreeFunction</th>\n",
       "      <th>Age</th>\n",
       "      <th>Outcome</th>\n",
       "    </tr>\n",
       "  </thead>\n",
       "  <tbody>\n",
       "    <tr>\n",
       "      <th>0</th>\n",
       "      <td>6</td>\n",
       "      <td>148</td>\n",
       "      <td>72</td>\n",
       "      <td>35</td>\n",
       "      <td>0</td>\n",
       "      <td>33.6</td>\n",
       "      <td>0.627</td>\n",
       "      <td>50</td>\n",
       "      <td>1</td>\n",
       "    </tr>\n",
       "    <tr>\n",
       "      <th>1</th>\n",
       "      <td>1</td>\n",
       "      <td>85</td>\n",
       "      <td>66</td>\n",
       "      <td>29</td>\n",
       "      <td>0</td>\n",
       "      <td>26.6</td>\n",
       "      <td>0.351</td>\n",
       "      <td>31</td>\n",
       "      <td>0</td>\n",
       "    </tr>\n",
       "    <tr>\n",
       "      <th>2</th>\n",
       "      <td>8</td>\n",
       "      <td>183</td>\n",
       "      <td>64</td>\n",
       "      <td>0</td>\n",
       "      <td>0</td>\n",
       "      <td>23.3</td>\n",
       "      <td>0.672</td>\n",
       "      <td>32</td>\n",
       "      <td>1</td>\n",
       "    </tr>\n",
       "    <tr>\n",
       "      <th>3</th>\n",
       "      <td>1</td>\n",
       "      <td>89</td>\n",
       "      <td>66</td>\n",
       "      <td>23</td>\n",
       "      <td>94</td>\n",
       "      <td>28.1</td>\n",
       "      <td>0.167</td>\n",
       "      <td>21</td>\n",
       "      <td>0</td>\n",
       "    </tr>\n",
       "    <tr>\n",
       "      <th>4</th>\n",
       "      <td>0</td>\n",
       "      <td>137</td>\n",
       "      <td>40</td>\n",
       "      <td>35</td>\n",
       "      <td>168</td>\n",
       "      <td>43.1</td>\n",
       "      <td>2.288</td>\n",
       "      <td>33</td>\n",
       "      <td>1</td>\n",
       "    </tr>\n",
       "  </tbody>\n",
       "</table>\n",
       "</div>"
      ],
      "text/plain": [
       "   Pregnancies  Glucose  BloodPressure  SkinThickness  Insulin   BMI  \\\n",
       "0            6      148             72             35        0  33.6   \n",
       "1            1       85             66             29        0  26.6   \n",
       "2            8      183             64              0        0  23.3   \n",
       "3            1       89             66             23       94  28.1   \n",
       "4            0      137             40             35      168  43.1   \n",
       "\n",
       "   DiabetesPedigreeFunction  Age  Outcome  \n",
       "0                     0.627   50        1  \n",
       "1                     0.351   31        0  \n",
       "2                     0.672   32        1  \n",
       "3                     0.167   21        0  \n",
       "4                     2.288   33        1  "
      ]
     },
     "execution_count": 3,
     "metadata": {},
     "output_type": "execute_result"
    }
   ],
   "source": [
    "df.head()"
   ]
  },
  {
   "cell_type": "code",
   "execution_count": 4,
   "id": "dffe7f14",
   "metadata": {},
   "outputs": [
    {
     "data": {
      "text/plain": [
       "(768, 9)"
      ]
     },
     "execution_count": 4,
     "metadata": {},
     "output_type": "execute_result"
    }
   ],
   "source": [
    "df.shape"
   ]
  },
  {
   "cell_type": "code",
   "execution_count": 5,
   "id": "ec050943",
   "metadata": {},
   "outputs": [
    {
     "data": {
      "text/plain": [
       "Pregnancies                 0\n",
       "Glucose                     0\n",
       "BloodPressure               0\n",
       "SkinThickness               0\n",
       "Insulin                     0\n",
       "BMI                         0\n",
       "DiabetesPedigreeFunction    0\n",
       "Age                         0\n",
       "Outcome                     0\n",
       "dtype: int64"
      ]
     },
     "execution_count": 5,
     "metadata": {},
     "output_type": "execute_result"
    }
   ],
   "source": [
    "#checking for any null values in data\n",
    "\n",
    "df.isna().sum()"
   ]
  },
  {
   "cell_type": "code",
   "execution_count": 6,
   "id": "50f15d44",
   "metadata": {},
   "outputs": [],
   "source": [
    "#The data looks clean, so we can use the same raw data for our future analysis \n",
    "\n",
    "df.to_csv(r'C:\\Users\\srisi_w\\Desktop\\Python_Practice\\diabetes\\clean_data\\clean_data.csv')"
   ]
  },
  {
   "cell_type": "code",
   "execution_count": 7,
   "id": "d837ee1a",
   "metadata": {},
   "outputs": [],
   "source": [
    "#Let's create a sample from the polulation, using random state to reproduce the result\n",
    "\n",
    "df_getsample_frompopulation= df.sample(n= 25, random_state= 42)"
   ]
  },
  {
   "cell_type": "code",
   "execution_count": 8,
   "id": "37e0f076",
   "metadata": {},
   "outputs": [
    {
     "data": {
      "text/html": [
       "<div>\n",
       "<style scoped>\n",
       "    .dataframe tbody tr th:only-of-type {\n",
       "        vertical-align: middle;\n",
       "    }\n",
       "\n",
       "    .dataframe tbody tr th {\n",
       "        vertical-align: top;\n",
       "    }\n",
       "\n",
       "    .dataframe thead th {\n",
       "        text-align: right;\n",
       "    }\n",
       "</style>\n",
       "<table border=\"1\" class=\"dataframe\">\n",
       "  <thead>\n",
       "    <tr style=\"text-align: right;\">\n",
       "      <th></th>\n",
       "      <th>Pregnancies</th>\n",
       "      <th>Glucose</th>\n",
       "      <th>BloodPressure</th>\n",
       "      <th>SkinThickness</th>\n",
       "      <th>Insulin</th>\n",
       "      <th>BMI</th>\n",
       "      <th>DiabetesPedigreeFunction</th>\n",
       "      <th>Age</th>\n",
       "      <th>Outcome</th>\n",
       "    </tr>\n",
       "  </thead>\n",
       "  <tbody>\n",
       "    <tr>\n",
       "      <th>668</th>\n",
       "      <td>6</td>\n",
       "      <td>98</td>\n",
       "      <td>58</td>\n",
       "      <td>33</td>\n",
       "      <td>190</td>\n",
       "      <td>34.0</td>\n",
       "      <td>0.430</td>\n",
       "      <td>43</td>\n",
       "      <td>0</td>\n",
       "    </tr>\n",
       "    <tr>\n",
       "      <th>324</th>\n",
       "      <td>2</td>\n",
       "      <td>112</td>\n",
       "      <td>75</td>\n",
       "      <td>32</td>\n",
       "      <td>0</td>\n",
       "      <td>35.7</td>\n",
       "      <td>0.148</td>\n",
       "      <td>21</td>\n",
       "      <td>0</td>\n",
       "    </tr>\n",
       "    <tr>\n",
       "      <th>624</th>\n",
       "      <td>2</td>\n",
       "      <td>108</td>\n",
       "      <td>64</td>\n",
       "      <td>0</td>\n",
       "      <td>0</td>\n",
       "      <td>30.8</td>\n",
       "      <td>0.158</td>\n",
       "      <td>21</td>\n",
       "      <td>0</td>\n",
       "    </tr>\n",
       "    <tr>\n",
       "      <th>690</th>\n",
       "      <td>8</td>\n",
       "      <td>107</td>\n",
       "      <td>80</td>\n",
       "      <td>0</td>\n",
       "      <td>0</td>\n",
       "      <td>24.6</td>\n",
       "      <td>0.856</td>\n",
       "      <td>34</td>\n",
       "      <td>0</td>\n",
       "    </tr>\n",
       "    <tr>\n",
       "      <th>473</th>\n",
       "      <td>7</td>\n",
       "      <td>136</td>\n",
       "      <td>90</td>\n",
       "      <td>0</td>\n",
       "      <td>0</td>\n",
       "      <td>29.9</td>\n",
       "      <td>0.210</td>\n",
       "      <td>50</td>\n",
       "      <td>0</td>\n",
       "    </tr>\n",
       "  </tbody>\n",
       "</table>\n",
       "</div>"
      ],
      "text/plain": [
       "     Pregnancies  Glucose  BloodPressure  SkinThickness  Insulin   BMI  \\\n",
       "668            6       98             58             33      190  34.0   \n",
       "324            2      112             75             32        0  35.7   \n",
       "624            2      108             64              0        0  30.8   \n",
       "690            8      107             80              0        0  24.6   \n",
       "473            7      136             90              0        0  29.9   \n",
       "\n",
       "     DiabetesPedigreeFunction  Age  Outcome  \n",
       "668                     0.430   43        0  \n",
       "324                     0.148   21        0  \n",
       "624                     0.158   21        0  \n",
       "690                     0.856   34        0  \n",
       "473                     0.210   50        0  "
      ]
     },
     "execution_count": 8,
     "metadata": {},
     "output_type": "execute_result"
    }
   ],
   "source": [
    "df_getsample_frompopulation.head()"
   ]
  },
  {
   "cell_type": "code",
   "execution_count": 9,
   "id": "bb127f15",
   "metadata": {},
   "outputs": [
    {
     "data": {
      "text/plain": [
       "(25, 9)"
      ]
     },
     "execution_count": 9,
     "metadata": {},
     "output_type": "execute_result"
    }
   ],
   "source": [
    "df_getsample_frompopulation.shape"
   ]
  },
  {
   "cell_type": "code",
   "execution_count": 10,
   "id": "898c957a",
   "metadata": {},
   "outputs": [
    {
     "data": {
      "text/plain": [
       "116.64"
      ]
     },
     "execution_count": 10,
     "metadata": {},
     "output_type": "execute_result"
    }
   ],
   "source": [
    "#finding the mean Glucose of the sample\n",
    "\n",
    "mean_glucose_sample = df_getsample_frompopulation.loc[:,\"Glucose\"].mean()\n",
    "\n",
    "mean_glucose_sample"
   ]
  },
  {
   "cell_type": "code",
   "execution_count": 11,
   "id": "d31394df",
   "metadata": {},
   "outputs": [
    {
     "data": {
      "text/plain": [
       "183"
      ]
     },
     "execution_count": 11,
     "metadata": {},
     "output_type": "execute_result"
    }
   ],
   "source": [
    "#finding for max Glucose of the sample\n",
    "\n",
    "max_glucose_sample = df_getsample_frompopulation.loc[:,\"Glucose\"].max()\n",
    "\n",
    "max_glucose_sample"
   ]
  },
  {
   "cell_type": "code",
   "execution_count": 12,
   "id": "c9e91c51",
   "metadata": {},
   "outputs": [
    {
     "data": {
      "text/plain": [
       "120.89453125"
      ]
     },
     "execution_count": 12,
     "metadata": {},
     "output_type": "execute_result"
    }
   ],
   "source": [
    "#finding for mean Glucose of the population\n",
    "\n",
    "mean_glucose_population = df.loc[:,\"Glucose\"].mean()\n",
    "\n",
    "mean_glucose_population"
   ]
  },
  {
   "cell_type": "code",
   "execution_count": 13,
   "id": "b66f8dfd",
   "metadata": {},
   "outputs": [
    {
     "data": {
      "text/plain": [
       "199"
      ]
     },
     "execution_count": 13,
     "metadata": {},
     "output_type": "execute_result"
    }
   ],
   "source": [
    "#finding for max Glucose of the population\n",
    "\n",
    "max_glucose_population = df.loc[:,\"Glucose\"].max()\n",
    "\n",
    "max_glucose_population"
   ]
  },
  {
   "cell_type": "code",
   "execution_count": 14,
   "id": "60b90833",
   "metadata": {},
   "outputs": [
    {
     "name": "stdout",
     "output_type": "stream",
     "text": [
      "{'mean_sample': 116.64, 'mean_population': 120.89453125}\n"
     ]
    }
   ],
   "source": [
    "# let's create a dictonary which stores the mean values of sample and population \n",
    "# which helps in plotting the graphs\n",
    "\n",
    "class mean_dictionary(dict):\n",
    "    \n",
    "    def __init__(self):\n",
    "        self = dict()\n",
    "    \n",
    "    def add(self, key, value):\n",
    "        self[key] = value\n",
    " \n",
    " \n",
    "# Main Function\n",
    "dict_mean = mean_dictionary()\n",
    " \n",
    "dict_mean.add('mean_sample', mean_glucose_sample)\n",
    "dict_mean.add('mean_population', mean_glucose_population)\n",
    " \n",
    "print(dict_mean)\n",
    "\n",
    "\n",
    "## Saving the results into results folder\n",
    "\n",
    "result_save = open(r\"C:\\Users\\srisi_w\\Desktop\\Python_Practice\\diabetes\\results\\A\\dict_mean.txt\",\"w\")\n",
    "\n",
    "# write file\n",
    "result_save.write(str(dict_mean))\n",
    "\n",
    "# close file\n",
    "result_save.close()"
   ]
  },
  {
   "cell_type": "code",
   "execution_count": 15,
   "id": "4ef7b253",
   "metadata": {},
   "outputs": [
    {
     "name": "stdout",
     "output_type": "stream",
     "text": [
      "{'max_sample': 183, 'max_population': 199}\n"
     ]
    }
   ],
   "source": [
    "# let us create a dictonary which stores the max values of sample and population \n",
    "# which helps in plotting the graphs\n",
    "\n",
    "\n",
    "class max_dictionary(dict):\n",
    "    \n",
    "    def __init__(self):\n",
    "        self = dict()\n",
    "    \n",
    "    def add(self, key, value):\n",
    "        self[key] = value\n",
    " \n",
    " \n",
    "# Main Function\n",
    "dict_max = max_dictionary()\n",
    " \n",
    "dict_max.add('max_sample', max_glucose_sample)\n",
    "dict_max.add('max_population', max_glucose_population)\n",
    " \n",
    "print(dict_max)\n",
    "\n",
    "\n",
    "## Saving the results into results folder\n",
    "\n",
    "result_save = open(r\"C:\\Users\\srisi_w\\Desktop\\Python_Practice\\diabetes\\results\\A\\dict_max.txt\",\"w\")\n",
    "\n",
    "# write file\n",
    "result_save.write(str(dict_max))\n",
    "\n",
    "# close file\n",
    "result_save.close()"
   ]
  },
  {
   "cell_type": "code",
   "execution_count": 16,
   "id": "573ff314",
   "metadata": {},
   "outputs": [
    {
     "data": {
      "image/png": "[encoded data removed]",
      "text/plain": [
       "<Figure size 288x360 with 1 Axes>"
      ]
     },
     "metadata": {
      "needs_background": "light"
     },
     "output_type": "display_data"
    }
   ],
   "source": [
    "#creating the bar graph for sample vs population mean \n",
    "# the graph clearly shows that mean_population is slightly higher on copmaring with mean_sample\n",
    "\n",
    "mean_values = list(dict_mean.keys())\n",
    "values = list(dict_mean.values())\n",
    "  \n",
    "fig = plt.figure(figsize = (4, 5))\n",
    " \n",
    "# creating the bar plot\n",
    "plt.bar(mean_values, values, color ='blue',\n",
    "        width = 0.4)\n",
    " \n",
    "plt.xlabel(\"sample vs population mean\")\n",
    "plt.ylabel(\"mean values\")\n",
    "plt.title(\"mean measurement\")\n",
    "\n",
    "\n",
    "plt.savefig(r\"C:\\Users\\srisi_w\\Desktop\\Python_Practice\\diabetes\\results\\A\\mean_bargraph.jpeg\")\n",
    "\n",
    "plt.show()"
   ]
  },
  {
   "cell_type": "code",
   "execution_count": 17,
   "id": "6c9254ff",
   "metadata": {},
   "outputs": [
    {
     "data": {
      "image/png": "[encoded data removed]",
      "text/plain": [
       "<Figure size 432x288 with 1 Axes>"
      ]
     },
     "metadata": {},
     "output_type": "display_data"
    }
   ],
   "source": [
    "#creating the pie graph for sample vs population mean \n",
    "# the graph clearly shows that mean_population is slightly higher on comparing with mean_sample\n",
    "\n",
    "\n",
    "plt.pie(values, labels = mean_values, autopct='%1.1f%%', shadow=True, startangle=90)\n",
    "plt.savefig(r\"C:\\Users\\srisi_w\\Desktop\\Python_Practice\\diabetes\\results\\A\\mean_pie.jpeg\")"
   ]
  },
  {
   "cell_type": "code",
   "execution_count": 18,
   "id": "3361b8e7",
   "metadata": {},
   "outputs": [
    {
     "data": {
      "image/png": "[encoded data removed]",
      "text/plain": [
       "<Figure size 288x360 with 1 Axes>"
      ]
     },
     "metadata": {
      "needs_background": "light"
     },
     "output_type": "display_data"
    }
   ],
   "source": [
    "#creating the bar graph for sample vs population max \n",
    "#the graph clearly shows that max_population is higher on comparing with max_sample\n",
    "\n",
    "\n",
    "max_values = list(dict_max.keys())\n",
    "values = list(dict_max.values())\n",
    "  \n",
    "fig = plt.figure(figsize = (4, 5))\n",
    " \n",
    "# creating the bar plot\n",
    "plt.bar(max_values, values, color ='red',\n",
    "        width = 0.4)\n",
    " \n",
    "plt.xlabel(\"sample vs population\")\n",
    "plt.ylabel(\"highest values\")\n",
    "plt.title(\"highest value measurement\")\n",
    "\n",
    "plt.savefig(r\"C:\\Users\\srisi_w\\Desktop\\Python_Practice\\diabetes\\results\\A\\max_bargraph.jpeg\")\n",
    "\n",
    "\n",
    "\n",
    "plt.show()"
   ]
  },
  {
   "cell_type": "code",
   "execution_count": 19,
   "id": "1c048b55",
   "metadata": {},
   "outputs": [
    {
     "data": {
      "image/png": "[encoded data removed]",
      "text/plain": [
       "<Figure size 432x288 with 1 Axes>"
      ]
     },
     "metadata": {},
     "output_type": "display_data"
    }
   ],
   "source": [
    "#creating the pie graph for sample vs population max \n",
    "#the graph clearly shows that max_population is higher on comparing with max_sample\n",
    "\n",
    "\n",
    "plt.pie(values, labels = max_values , autopct='%1.1f%%', shadow=True, startangle=90)\n",
    "plt.savefig(r\"C:\\Users\\srisi_w\\Desktop\\Python_Practice\\diabetes\\results\\A\\max_pie.jpeg\")"
   ]
  },
  {
   "cell_type": "code",
   "execution_count": 20,
   "id": "c3c7873c",
   "metadata": {},
   "outputs": [
    {
     "name": "stdout",
     "output_type": "stream",
     "text": [
      "40.248\n"
     ]
    }
   ],
   "source": [
    "#let us now find the 98th percentile of sample data\n",
    "\n",
    "sample_percentile = np.percentile(df_getsample_frompopulation.loc[:,\"BMI\"], 98)\n",
    "print(sample_percentile)"
   ]
  },
  {
   "cell_type": "code",
   "execution_count": 21,
   "id": "438cc634",
   "metadata": {},
   "outputs": [
    {
     "name": "stdout",
     "output_type": "stream",
     "text": [
      "47.52599999999996\n"
     ]
    }
   ],
   "source": [
    "#find the 98th percentile of population data\n",
    "\n",
    "population_percentile = np.percentile(df.loc[:,\"BMI\"], 98)\n",
    "print(population_percentile)"
   ]
  },
  {
   "cell_type": "code",
   "execution_count": 22,
   "id": "1ac90eb7",
   "metadata": {},
   "outputs": [
    {
     "name": "stdout",
     "output_type": "stream",
     "text": [
      "{'sample_percentile': 40.248, 'population_percentile': 47.52599999999996}\n"
     ]
    }
   ],
   "source": [
    "# let us create a dictonary which stores the percentile values of sample and population \n",
    "# which helps in plotting the graphs\n",
    "\n",
    "\n",
    "class percentile_dictionary(dict):\n",
    "    \n",
    "    def __init__(self):\n",
    "        self = dict()\n",
    "    \n",
    "    def add(self, key, value):\n",
    "        self[key] = value\n",
    " \n",
    " \n",
    "# Main Function\n",
    "dict_percentile = percentile_dictionary()\n",
    " \n",
    "dict_percentile.add('sample_percentile', sample_percentile)\n",
    "dict_percentile.add('population_percentile', population_percentile)\n",
    " \n",
    "print(dict_percentile)\n",
    "\n",
    "\n",
    "## Saving the results into results folder\n",
    "\n",
    "result_save = open(r\"C:\\Users\\srisi_w\\Desktop\\Python_Practice\\diabetes\\results\\B\\dict_percentile.txt\",\"w\")\n",
    "\n",
    "# write file\n",
    "result_save.write(str(dict_percentile))\n",
    "\n",
    "# close file\n",
    "result_save.close()"
   ]
  },
  {
   "cell_type": "code",
   "execution_count": 23,
   "id": "3822b9d5",
   "metadata": {},
   "outputs": [
    {
     "data": {
      "image/png": "[encoded data removed]",
      "text/plain": [
       "<Figure size 288x360 with 1 Axes>"
      ]
     },
     "metadata": {
      "needs_background": "light"
     },
     "output_type": "display_data"
    }
   ],
   "source": [
    "#creating the bar graph for sample vs population percentile \n",
    "#the graph clearly shows that population_percentile is higher on comparing with sample_percentile\n",
    "\n",
    "\n",
    "percentile_values = list(dict_percentile.keys())\n",
    "values = list(dict_percentile.values())\n",
    "  \n",
    "fig = plt.figure(figsize = (4, 5))\n",
    " \n",
    "# creating the bar plot\n",
    "plt.bar(percentile_values, values, color ='green',\n",
    "        width = 0.4)\n",
    " \n",
    "plt.xlabel(\"sample vs population\")\n",
    "plt.ylabel(\"percentile values\")\n",
    "plt.title(\"percentile value measurement\")\n",
    "\n",
    "plt.savefig(r\"C:\\Users\\srisi_w\\Desktop\\Python_Practice\\diabetes\\results\\B\\percentile_bargraph.jpeg\")\n",
    "\n",
    "\n",
    "plt.show()"
   ]
  },
  {
   "cell_type": "code",
   "execution_count": 24,
   "id": "0e1f6248",
   "metadata": {},
   "outputs": [
    {
     "data": {
      "image/png": "[encoded data removed]",
      "text/plain": [
       "<Figure size 432x288 with 1 Axes>"
      ]
     },
     "metadata": {},
     "output_type": "display_data"
    }
   ],
   "source": [
    "#creating the pie graph for sample vs population percentile \n",
    "#the graph clearly shows that population_percentile is higher on comparing with sample_percentile\n",
    "\n",
    "\n",
    "plt.pie(values, labels = percentile_values , autopct='%1.1f%%', shadow=True, startangle=90)\n",
    "plt.savefig(r\"C:\\Users\\srisi_w\\Desktop\\Python_Practice\\diabetes\\results\\B\\percentile_pie.jpeg\")"
   ]
  },
  {
   "cell_type": "code",
   "execution_count": 25,
   "id": "802c8aef",
   "metadata": {},
   "outputs": [
    {
     "name": "stdout",
     "output_type": "stream",
     "text": [
      "     Pregnancies  Glucose  BloodPressure  SkinThickness  Insulin   BMI  \\\n",
      "228            4      197             70             39      744  36.7   \n",
      "442            4      117             64             27      120  33.2   \n",
      "507            1      130             60             23      170  28.6   \n",
      "25            10      125             70             26      115  31.1   \n",
      "496            5      110             68              0        0  26.0   \n",
      "..           ...      ...            ...            ...      ...   ...   \n",
      "732            2      174             88             37      120  44.5   \n",
      "514            3       99             54             19       86  25.6   \n",
      "750            4      136             70              0        0  31.2   \n",
      "364            4      147             74             25      293  34.9   \n",
      "485            0      135             68             42      250  42.3   \n",
      "\n",
      "     DiabetesPedigreeFunction  Age  Outcome  \n",
      "228                     2.329   31        0  \n",
      "442                     0.230   24        0  \n",
      "507                     0.692   21        0  \n",
      "25                      0.205   41        1  \n",
      "496                     0.292   30        0  \n",
      "..                        ...  ...      ...  \n",
      "732                     0.646   24        1  \n",
      "514                     0.154   24        0  \n",
      "750                     1.182   22        1  \n",
      "364                     0.385   30        0  \n",
      "485                     0.365   24        1  \n",
      "\n",
      "[500 rows x 9 columns]\n"
     ]
    }
   ],
   "source": [
    "#Using bootstrap (replace= True), created 500 samples (of 150 observation each) from the population(raw_data) \n",
    "\n",
    "boot = sk.utils.resample(df, replace=True, n_samples=500, random_state=150)\n",
    "\n",
    "print(boot)"
   ]
  },
  {
   "cell_type": "code",
   "execution_count": 26,
   "id": "9691cb11",
   "metadata": {},
   "outputs": [
    {
     "name": "stdout",
     "output_type": "stream",
     "text": [
      "68.348\n"
     ]
    }
   ],
   "source": [
    "#find the mean BloodPressure of the bootstrapsample\n",
    "\n",
    "mean_bootBloodPressure = st.mean(boot.loc[:,\"BloodPressure\"])\n",
    "print(mean_bootBloodPressure)"
   ]
  },
  {
   "cell_type": "code",
   "execution_count": 27,
   "id": "77c73147",
   "metadata": {},
   "outputs": [
    {
     "name": "stdout",
     "output_type": "stream",
     "text": [
      "20.10729974427228\n"
     ]
    }
   ],
   "source": [
    "#find the std BloodPressure of the bootstrapsample\n",
    "\n",
    "std_bootBloodPressure = st.stdev(boot.loc[:,\"BloodPressure\"])\n",
    "print(std_bootBloodPressure)"
   ]
  },
  {
   "cell_type": "code",
   "execution_count": 28,
   "id": "6b501508",
   "metadata": {},
   "outputs": [
    {
     "name": "stdout",
     "output_type": "stream",
     "text": [
      "96.0\n"
     ]
    }
   ],
   "source": [
    "#find the percentile BMI of the bootstrapsample\n",
    "\n",
    "percentile_bootBloodPressure = np.percentile(boot.loc[:,\"BloodPressure\"], 98)\n",
    "print(percentile_bootBloodPressure)"
   ]
  },
  {
   "cell_type": "code",
   "execution_count": 29,
   "id": "e03ea8f2",
   "metadata": {},
   "outputs": [
    {
     "name": "stdout",
     "output_type": "stream",
     "text": [
      "69.10546875\n"
     ]
    }
   ],
   "source": [
    "#find the mean BloodPressure of the population\n",
    "\n",
    "mean_rawBloodPressure = st.mean(df.loc[:,\"BloodPressure\"])\n",
    "print(mean_rawBloodPressure)"
   ]
  },
  {
   "cell_type": "code",
   "execution_count": 30,
   "id": "f4a689cb",
   "metadata": {},
   "outputs": [
    {
     "name": "stdout",
     "output_type": "stream",
     "text": [
      "19.355807170644777\n"
     ]
    }
   ],
   "source": [
    "#find the std BloodPressure of the population\n",
    "\n",
    "std_rawBloodPressure = st.stdev(df.loc[:,\"BloodPressure\"])\n",
    "print(std_rawBloodPressure)"
   ]
  },
  {
   "cell_type": "code",
   "execution_count": 31,
   "id": "70d6b47d",
   "metadata": {},
   "outputs": [
    {
     "name": "stdout",
     "output_type": "stream",
     "text": [
      "99.31999999999994\n"
     ]
    }
   ],
   "source": [
    "#find the percentile BloodPressure of the population\n",
    "\n",
    "percentile_rawBloodPressure = np.percentile(df.loc[:,\"BloodPressure\"], 98)\n",
    "print(percentile_rawBloodPressure)"
   ]
  },
  {
   "cell_type": "code",
   "execution_count": 32,
   "id": "4b8d6b31",
   "metadata": {},
   "outputs": [
    {
     "name": "stdout",
     "output_type": "stream",
     "text": [
      "{'mean_Bootsample': 68.348, 'mean_population': 69.10546875}\n"
     ]
    }
   ],
   "source": [
    "# let us create a dictonary which stores the mean values of sample and population \n",
    "# which helps in plotting the graphs\n",
    "\n",
    "\n",
    "\n",
    "class Bootmean_dictionary(dict):\n",
    "    \n",
    "    def __init__(self):\n",
    "        self = dict()\n",
    "    \n",
    "    def add(self, key, value):\n",
    "        self[key] = value\n",
    " \n",
    " \n",
    "# Main Function\n",
    "dict_Bootmean = Bootmean_dictionary()\n",
    " \n",
    "dict_Bootmean.add('mean_Bootsample', mean_bootBloodPressure)\n",
    "dict_Bootmean.add('mean_population', mean_rawBloodPressure)\n",
    " \n",
    "print(dict_Bootmean)\n",
    "\n",
    "## Saving the results into results folder\n",
    "\n",
    "result_save = open(r\"C:\\Users\\srisi_w\\Desktop\\Python_Practice\\diabetes\\results\\C\\dict_Bootmean.txt\",\"w\")\n",
    "\n",
    "# write file\n",
    "result_save.write(str(dict_Bootmean))\n",
    "\n",
    "# close file\n",
    "result_save.close()"
   ]
  },
  {
   "cell_type": "code",
   "execution_count": 33,
   "id": "da401402",
   "metadata": {},
   "outputs": [
    {
     "data": {
      "image/png": "[encoded data removed]",
      "text/plain": [
       "<Figure size 288x360 with 1 Axes>"
      ]
     },
     "metadata": {
      "needs_background": "light"
     },
     "output_type": "display_data"
    }
   ],
   "source": [
    "#creating the bar graph for sample vs population mean\n",
    "#the graph clearly shows that population is higher on comparing with sample\n",
    "\n",
    "\n",
    "Bootmean_values = list(dict_Bootmean.keys())\n",
    "values = list(dict_Bootmean.values())\n",
    "  \n",
    "fig = plt.figure(figsize = (4, 5))\n",
    " \n",
    "# creating the bar plot\n",
    "plt.bar(Bootmean_values, values, color ='orange',\n",
    "        width = 0.4)\n",
    " \n",
    "plt.xlabel(\"Bootstrapsample vs population\")\n",
    "plt.ylabel(\"mean values\")\n",
    "plt.title(\"mean value measurement\")\n",
    "\n",
    "plt.savefig(r\"C:\\Users\\srisi_w\\Desktop\\Python_Practice\\diabetes\\results\\C\\bootmean_bargraph.jpeg\")\n",
    "\n",
    "\n",
    "plt.show()"
   ]
  },
  {
   "cell_type": "code",
   "execution_count": 34,
   "id": "16c94852",
   "metadata": {},
   "outputs": [
    {
     "data": {
      "image/png": "[encoded data removed]",
      "text/plain": [
       "<Figure size 432x288 with 1 Axes>"
      ]
     },
     "metadata": {},
     "output_type": "display_data"
    }
   ],
   "source": [
    "#creating the pie graph for sample vs population mean\n",
    "#the graph clearly shows that population is higher on comparing with sample\n",
    "\n",
    "plt.pie(values, labels = Bootmean_values, autopct='%1.1f%%', shadow=True, startangle=90)\n",
    "plt.savefig(r\"C:\\Users\\srisi_w\\Desktop\\Python_Practice\\diabetes\\results\\C\\bootmean_pie.jpeg\")"
   ]
  },
  {
   "cell_type": "code",
   "execution_count": 35,
   "id": "438515f6",
   "metadata": {},
   "outputs": [
    {
     "name": "stdout",
     "output_type": "stream",
     "text": [
      "{'std_Bootsample': 20.10729974427228, 'std_population': 19.355807170644777}\n"
     ]
    }
   ],
   "source": [
    "# let us create a dictonary which stores the std values of sample and population \n",
    "# which helps in plotting the graphs\n",
    "\n",
    "\n",
    "\n",
    "\n",
    "class Bootstd_dictionary(dict):\n",
    "    \n",
    "    def __init__(self):\n",
    "        self = dict()\n",
    "    \n",
    "    def add(self, key, value):\n",
    "        self[key] = value\n",
    " \n",
    " \n",
    "# Main Function\n",
    "dict_Bootstd = Bootstd_dictionary()\n",
    " \n",
    "dict_Bootstd.add('std_Bootsample', std_bootBloodPressure)\n",
    "dict_Bootstd.add('std_population', std_rawBloodPressure)\n",
    " \n",
    "print(dict_Bootstd)\n",
    "\n",
    "## Saving the results into results folder\n",
    "\n",
    "result_save = open(r\"C:\\Users\\srisi_w\\Desktop\\Python_Practice\\diabetes\\results\\C\\dict_Bootstd.txt\",\"w\")\n",
    "\n",
    "# write file\n",
    "result_save.write(str(dict_Bootstd))\n",
    "\n",
    "# close file\n",
    "result_save.close()"
   ]
  },
  {
   "cell_type": "code",
   "execution_count": 36,
   "id": "903aa360",
   "metadata": {},
   "outputs": [
    {
     "data": {
      "image/png": "[encoded data removed]",
      "text/plain": [
       "<Figure size 288x360 with 1 Axes>"
      ]
     },
     "metadata": {
      "needs_background": "light"
     },
     "output_type": "display_data"
    }
   ],
   "source": [
    "#creating the bar graph for sample vs population std\n",
    "#the graph clearly shows that sample is slightly higher on comparing with population\n",
    "\n",
    "Bootstd_values = list(dict_Bootstd.keys())\n",
    "values = list(dict_Bootstd.values())\n",
    "  \n",
    "fig = plt.figure(figsize = (4, 5))\n",
    " \n",
    "# creating the bar plot\n",
    "plt.bar(Bootstd_values, values, color ='silver',\n",
    "        width = 0.4)\n",
    " \n",
    "plt.xlabel(\"Bootstrap sample vs population\")\n",
    "plt.ylabel(\"SD values\")\n",
    "plt.title(\"SD value measurement\")\n",
    "\n",
    "plt.savefig(r\"C:\\Users\\srisi_w\\Desktop\\Python_Practice\\diabetes\\results\\C\\bootstd_barimage.jpeg\")\n",
    "\n",
    "\n",
    "plt.show()"
   ]
  },
  {
   "cell_type": "code",
   "execution_count": 37,
   "id": "41db5fa0",
   "metadata": {},
   "outputs": [
    {
     "data": {
      "image/png": "[encoded data removed]",
      "text/plain": [
       "<Figure size 432x288 with 1 Axes>"
      ]
     },
     "metadata": {},
     "output_type": "display_data"
    }
   ],
   "source": [
    "#creating the pie graph for sample vs population std\n",
    "#the graph clearly shows that sample is slightly higher on comparing with population\n",
    "\n",
    "plt.pie(values, labels = Bootstd_values , autopct='%1.1f%%', shadow=True, startangle=90)\n",
    "plt.savefig(r\"C:\\Users\\srisi_w\\Desktop\\Python_Practice\\diabetes\\results\\C\\bootstd_pie.jpeg\")"
   ]
  },
  {
   "cell_type": "code",
   "execution_count": 38,
   "id": "e0e995aa",
   "metadata": {},
   "outputs": [
    {
     "name": "stdout",
     "output_type": "stream",
     "text": [
      "{'percentile_Bootsample': 96.0, 'percentile_population': 99.31999999999994}\n"
     ]
    }
   ],
   "source": [
    "# let us create a dictonary which stores the percentile values of sample and population \n",
    "# which helps in plotting the graphs\n",
    "\n",
    "\n",
    "class Bootpercentile_dictionary(dict):\n",
    "    \n",
    "    def __init__(self):\n",
    "        self = dict()\n",
    "    \n",
    "    def add(self, key, value):\n",
    "        self[key] = value\n",
    " \n",
    " \n",
    "# Main Function\n",
    "dict_Bootpercentile = Bootpercentile_dictionary()\n",
    " \n",
    "dict_Bootpercentile.add('percentile_Bootsample', percentile_bootBloodPressure)\n",
    "dict_Bootpercentile.add('percentile_population', percentile_rawBloodPressure)\n",
    " \n",
    "print(dict_Bootpercentile)\n",
    "\n",
    "## Saving the results into results folder\n",
    "\n",
    "result_save = open(r\"C:\\Users\\srisi_w\\Desktop\\Python_Practice\\diabetes\\results\\C\\dict_Bootpercentile.txt\",\"w\")\n",
    "\n",
    "# write file\n",
    "result_save.write(str(dict_Bootstd))\n",
    "\n",
    "# close file\n",
    "result_save.close()"
   ]
  },
  {
   "cell_type": "code",
   "execution_count": 39,
   "id": "fd7fff6f",
   "metadata": {},
   "outputs": [
    {
     "data": {
      "image/png": "[encoded data removed]",
      "text/plain": [
       "<Figure size 288x360 with 1 Axes>"
      ]
     },
     "metadata": {
      "needs_background": "light"
     },
     "output_type": "display_data"
    }
   ],
   "source": [
    "#creating the bar graph for sample vs population percentile\n",
    "#the graph clearly shows that population is slightly higher on comparing with sample\n",
    "\n",
    "Bootpercentile_values = list(dict_Bootpercentile.keys())\n",
    "values = list(dict_Bootpercentile.values())\n",
    "  \n",
    "fig = plt.figure(figsize = (4, 5))\n",
    " \n",
    "# creating the bar plot\n",
    "plt.bar(Bootpercentile_values, values, color ='purple',\n",
    "        width = 0.4)\n",
    " \n",
    "plt.xlabel(\"Bootstrap sample vs population\")\n",
    "plt.ylabel(\"Percentile values\")\n",
    "plt.title(\"percentile value measurement\")\n",
    "\n",
    "plt.savefig(r\"C:\\Users\\srisi_w\\Desktop\\Python_Practice\\diabetes\\results\\C\\bootpercentile_barimage.jpeg\")\n",
    "\n",
    "\n",
    "plt.show()"
   ]
  },
  {
   "cell_type": "code",
   "execution_count": 40,
   "id": "0a3939bb",
   "metadata": {},
   "outputs": [
    {
     "data": {
      "image/png": "[encoded data removed]",
      "text/plain": [
       "<Figure size 432x288 with 1 Axes>"
      ]
     },
     "metadata": {},
     "output_type": "display_data"
    }
   ],
   "source": [
    "#creating the bar graph for sample vs population percentile\n",
    "#the graph clearly shows that population is slightly higher on comparing with sample\n",
    "\n",
    "plt.pie(values, labels = Bootpercentile_values, autopct='%1.1f%%', shadow=True, startangle=90)\n",
    "plt.savefig(r\"C:\\Users\\srisi_w\\Desktop\\Python_Practice\\diabetes\\results\\C\\bootpercentile_piechart.jpeg\")"
   ]
  },
  {
   "cell_type": "code",
   "execution_count": null,
   "id": "7f4b7b45",
   "metadata": {},
   "outputs": [],
   "source": []
  }
 ],
 "metadata": {
  "kernelspec": {
   "display_name": "Python 3 (ipykernel)",
   "language": "python",
   "name": "python3"
  },
  "language_info": {
   "codemirror_mode": {
    "name": "ipython",
    "version": 3
   },
   "file_extension": ".py",
   "mimetype": "text/x-python",
   "name": "python",
   "nbconvert_exporter": "python",
   "pygments_lexer": "ipython3",
   "version": "3.9.7"
  }
 },
 "nbformat": 4,
 "nbformat_minor": 5
}
